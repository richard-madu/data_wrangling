{
 "cells": [
  {
   "cell_type": "code",
   "execution_count": 3,
   "metadata": {},
   "outputs": [],
   "source": [
    "consumer_key = 'Qt9vkX5XmP60YI5cvqakmW01k'\n",
    "consumer_secret = '1zao4c1gRLCaUdIB5RnD2NgE60lUScdltBfJ6OjtOib4LdwH8q'\n",
    "access_token = '1318623178130968576-KcujB2vncVzAf8ZwQhuv7o7NKhHXSa'\n",
    "access_secret = 'UIRSfb1PiRLXb9TFxfQnH5QlAOK6uMCfSV43mvBiW3gXj'\n"
   ]
  },
  {
   "cell_type": "code",
   "execution_count": null,
   "metadata": {},
   "outputs": [],
   "source": []
  }
 ],
 "metadata": {
  "kernelspec": {
   "display_name": "Python 3",
   "language": "python",
   "name": "python3"
  },
  "language_info": {
   "codemirror_mode": {
    "name": "ipython",
    "version": 3
   },
   "file_extension": ".py",
   "mimetype": "text/x-python",
   "name": "python",
   "nbconvert_exporter": "python",
   "pygments_lexer": "ipython3",
   "version": "3.7.6"
  }
 },
 "nbformat": 4,
 "nbformat_minor": 4
}
